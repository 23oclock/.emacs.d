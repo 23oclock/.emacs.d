{
 "cells": [
  {
   "cell_type": "code",
   "execution_count": 136,
   "metadata": {},
   "outputs": [],
   "source": [
    "import random\n",
    "\n",
    "def generate_random_string(seed_str):\n",
    "    length = random.randint(0, len(seed_str))\n",
    "    return \"\".join(random.sample(seed_str, length))\n",
    "\n",
    "def generate_random_file(seed_str, size, path):\n",
    "    res = \"\"\n",
    "    for i in range(size):\n",
    "        sep = random.sample([\"\\n\", \"\\r\", \"\\t\", \" \", \"\"], 1)[0]\n",
    "        res += generate_random_string(seed_str) + sep\n",
    "    with open(path, \"w\") as f:\n",
    "        f.write(res)\n",
    "\n",
    "seed_str = 'zyxwvutsrqponmlkjihgfedcba\\\\'\n",
    "path = \"./random_strs.txt\"\n",
    "size = 10000\n",
    "generate_random_file(seed_str, size, path)"
   ]
  },
  {
   "cell_type": "code",
   "execution_count": 151,
   "metadata": {},
   "outputs": [
    {
     "name": "stdout",
     "output_type": "stream",
     "text": [
      "57 [20]\n",
      "0 --> 47\n",
      "=====20=====\n",
      "abc\n",
      "akjsd\n",
      "asdad\n",
      "cde\n",
      "ddd\n",
      "xxxx\n",
      "hahaha\n",
      "asdjkh\n",
      "asda\n"
     ]
    }
   ],
   "source": [
    "import re\n",
    "\n",
    "def read_file(path):\n",
    "    with open(path, \"r\") as f:\n",
    "        return f.read()\n",
    "\n",
    "def locate_substr(substr, fullstr):\n",
    "    return [s.start() for s in re.finditer(substr, fullstr)]\n",
    "\n",
    "def find_neighbor_lines(num_neighbors, loc, substr, fullstr):\n",
    "    loc_prev_neighbors = locate_substr(\"\\n\", fullstr[:loc])[::-1]  # 从后往前的位置list\n",
    "    loc_next_neighbors = locate_substr(\"\\n\", fullstr[loc + len(substr):])\n",
    "    start = loc_prev_neighbors[num_neighbors] + 1 if len(loc_prev_neighbors) > num_neighbors else 0\n",
    "    end = loc_next_neighbors[num_neighbors] + loc + len(substr) if len(loc_next_neighbors) > num_neighbors else len(fullstr)\n",
    "    print(start, \"-->\", end)\n",
    "    return fullstr[start:end]\n",
    "\n",
    "# fullstr = str(read_file(path))\n",
    "fullstr = \"abc\\nakjsd\\nasdad\\ncde\\nddd\\nxxxx\\nhahaha\\nasdjkh\\nasda\\nasdad\\nada\"\n",
    "# print(fullstr)\n",
    "\n",
    "substr = \"ddd\"\n",
    "loc_substr = locate_substr(substr, fullstr)\n",
    "print(len(fullstr), loc_substr)\n",
    "num_neighbors = 4\n",
    "\n",
    "for loc in loc_substr:\n",
    "    neighbors = find_neighbor_lines(num_neighbors, loc, substr, fullstr)\n",
    "    print(f\"====={loc}=====\\n{neighbors}\")"
   ]
  }
 ],
 "metadata": {
  "kernelspec": {
   "display_name": "Python 3.9.12 ('py39')",
   "language": "python",
   "name": "python3"
  },
  "language_info": {
   "codemirror_mode": {
    "name": "ipython",
    "version": 3
   },
   "file_extension": ".py",
   "mimetype": "text/x-python",
   "name": "python",
   "nbconvert_exporter": "python",
   "pygments_lexer": "ipython3",
   "version": "3.9.12"
  },
  "orig_nbformat": 4,
  "vscode": {
   "interpreter": {
    "hash": "e350a300d1df2ad245a56a7cd6e9ae5a42703afeb2fed018b7f0b2adc833a1c8"
   }
  }
 },
 "nbformat": 4,
 "nbformat_minor": 2
}
